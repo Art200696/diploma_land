{
  "nbformat": 4,
  "nbformat_minor": 0,
  "metadata": {
    "colab": {
      "name": "points_extraction.ipynb",
      "provenance": [],
      "mount_file_id": "1a1at9c0eQw_MdCoUNyWGmmNqBtawRb65",
      "authorship_tag": "ABX9TyMZ/hvWwPrb8S4OthnoIjqJ",
      "include_colab_link": true
    },
    "kernelspec": {
      "name": "python3",
      "display_name": "Python 3"
    }
  },
  "cells": [
    {
      "cell_type": "markdown",
      "metadata": {
        "id": "view-in-github",
        "colab_type": "text"
      },
      "source": [
        "<a href=\"https://colab.research.google.com/github/Art200696/diploma_land/blob/master/points_extraction.ipynb\" target=\"_parent\"><img src=\"https://colab.research.google.com/assets/colab-badge.svg\" alt=\"Open In Colab\"/></a>"
      ]
    },
    {
      "cell_type": "code",
      "metadata": {
        "id": "-Vt5YDGbozAY",
        "colab_type": "code",
        "outputId": "af498500-0988-420c-c726-8bf93c7890c3",
        "colab": {
          "base_uri": "https://localhost:8080/",
          "height": 118
        }
      },
      "source": [
        "from google.colab import drive\n",
        "drive.mount('/content/drive/', force_remount=True)"
      ],
      "execution_count": 0,
      "outputs": [
        {
          "output_type": "stream",
          "text": [
            "Go to this URL in a browser: https://accounts.google.com/o/oauth2/auth?client_id=947318989803-6bn6qk8qdgf4n4g3pfee6491hc0brc4i.apps.googleusercontent.com&redirect_uri=urn%3aietf%3awg%3aoauth%3a2.0%3aoob&response_type=code&scope=email%20https%3a%2f%2fwww.googleapis.com%2fauth%2fdocs.test%20https%3a%2f%2fwww.googleapis.com%2fauth%2fdrive%20https%3a%2f%2fwww.googleapis.com%2fauth%2fdrive.photos.readonly%20https%3a%2f%2fwww.googleapis.com%2fauth%2fpeopleapi.readonly\n",
            "\n",
            "Enter your authorization code:\n",
            "··········\n",
            "Mounted at /content/drive/\n"
          ],
          "name": "stdout"
        }
      ]
    },
    {
      "cell_type": "code",
      "metadata": {
        "id": "EDfZ8ge370fJ",
        "colab_type": "code",
        "colab": {}
      },
      "source": [
        "import pandas as pd\n",
        "import cv2\n",
        "import numpy as np\n",
        "import os\n",
        "\n",
        "import matplotlib.pyplot as plt\n",
        "import matplotlib.image as mpimg"
      ],
      "execution_count": 0,
      "outputs": []
    },
    {
      "cell_type": "code",
      "metadata": {
        "id": "vFOV9PAZY8yX",
        "colab_type": "code",
        "colab": {}
      },
      "source": [
        "def get_points(image, name = \"123\"):\n",
        "    ###\n",
        "    #Get extracted colored points\n",
        "    ###\n",
        "    brl = (60, 0, 0)\n",
        "    brh = (180, 50, 55)\n",
        "    tb = cv2.inRange(image, brl , brh)\n",
        "    if not np.nonzero(tb):\n",
        "        print(np.nonzero(tb))\n",
        "    grl = (0, 180, 0)\n",
        "    grh = (105, 255, 105)\n",
        "    tg = cv2.inRange(image, grl , grh)\n",
        "\n",
        "    rrl = (40, 30, 90)\n",
        "    rrh = (95, 80, 170)\n",
        "    tr = cv2.inRange(image, rrl , rrh)\n",
        "    #, np.nonzero(tg), np.nonzero(tr)\n",
        "    # print(np.nonzero(tr), np.nonzero(tg), np.nonzero(tb))\n",
        "    # plt.imshow(tg)\n",
        "    print(name)\n",
        "\n",
        "    red = (int(np.average(np.nonzero(tr)[0])), int(np.average(np.nonzero(tr)[1])))\n",
        "    green = (int(np.average(np.nonzero(tg)[0])), int(np.average(np.nonzero(tg)[1])))\n",
        "    blue = (int(np.average(np.nonzero(tb)[0])), int(np.average(np.nonzero(tb)[1])))\n",
        "    # print(int(np.average(np.nonzero(tr)[0])), int(np.average(np.nonzero(tr)[1])))\n",
        "    # print(int(np.average(np.nonzero(tg)[0])), int(np.average(np.nonzero(tg)[1])))\n",
        "    # print(int(np.average(np.nonzero(tb)[0])), int(np.average(np.nonzero(tb)[1])))\n",
        "    return red, green, blue\n"
      ],
      "execution_count": 0,
      "outputs": []
    },
    {
      "cell_type": "code",
      "metadata": {
        "id": "NO6DS2TlWxQh",
        "colab_type": "code",
        "outputId": "76587fdc-6f7c-4dc3-9f12-385b6e4d77ca",
        "colab": {
          "base_uri": "https://localhost:8080/",
          "height": 1000
        }
      },
      "source": [
        "def pass_dir(i, l_df):\n",
        "    ###\n",
        "    #Make a pass through directory\n",
        "    ###\n",
        "    sourcepath='/content/drive/My Drive/empty_gen_3/marked/'\n",
        "    l = os.listdir(sourcepath+str(i))\n",
        "    for j in l:\n",
        "        img = cv2.imread(sourcepath+str(i)+\"/\"+j)\n",
        "        r, g, b = get_points(img, j)\n",
        "\n",
        "        l_df.append({\"Angle\":[j[:-4]], \n",
        "                           \"red\":[r], \"green\":[g], \"blue\":[b]})\n",
        "    return l_df\n",
        "    \n",
        "l_df = []\n",
        "start = 300\n",
        "end = start+60\n",
        "\n",
        "for i in range(start, end):\n",
        "    l_df = pass_dir(i, l_df)\n",
        "\n",
        "print(\"End\")\n",
        "print(len(l_df))"
      ],
      "execution_count": 0,
      "outputs": [
        {
          "output_type": "stream",
          "text": [
            "\u001b[1;30;43mStreaming output truncated to the last 5000 lines.\u001b[0m\n",
            "310.02.jpg\n",
            "..."
            "359.98.jpg\n",
            "End\n",
            "5999\n"
          ],
          "name": "stdout"
        }
      ]
    },
    {
      "cell_type": "markdown",
      "metadata": {
        "id": "QzjouE65CHRo",
        "colab_type": "text"
      },
      "source": [
        "Save data"
      ]
    },
    {
      "cell_type": "code",
      "metadata": {
        "id": "RqcvgPegHvnn",
        "colab_type": "code",
        "outputId": "1e5e8784-fbe1-4530-f8fc-1c0112ce4570",
        "colab": {
          "base_uri": "https://localhost:8080/",
          "height": 33
        }
      },
      "source": [
        "df2 = pd.DataFrame(l_df)\n",
        "sourcepath='/content/drive/My Drive/empty_gen_3/marked/'\n",
        "print(sourcepath+\"angles\"+str(start)+\".csv\")\n",
        "df2.to_csv(sourcepath+\"angles\"+str(start)+\".csv\")"
      ],
      "execution_count": 0,
      "outputs": [
        {
          "output_type": "stream",
          "text": [
            "/content/drive/My Drive/empty_gen_3/marked/angles240.csv\n"
          ],
          "name": "stdout"
        }
      ]
    },
    {
      "cell_type": "code",
      "metadata": {
        "id": "KnliBK3E-q-j",
        "colab_type": "code",
        "colab": {}
      },
      "source": [
        ""
      ],
      "execution_count": 0,
      "outputs": []
    }
  ]
}
